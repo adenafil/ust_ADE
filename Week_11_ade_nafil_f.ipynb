{
  "nbformat": 4,
  "nbformat_minor": 0,
  "metadata": {
    "colab": {
      "provenance": [],
      "authorship_tag": "ABX9TyNsR65o1Qr5vMsD620TD43q",
      "include_colab_link": true
    },
    "kernelspec": {
      "name": "python3",
      "display_name": "Python 3"
    },
    "language_info": {
      "name": "python"
    }
  },
  "cells": [
    {
      "cell_type": "markdown",
      "metadata": {
        "id": "view-in-github",
        "colab_type": "text"
      },
      "source": [
        "<a href=\"https://colab.research.google.com/github/adenafil/ust_ADE/blob/main/Week_11_ade_nafil_f.ipynb\" target=\"_parent\"><img src=\"https://colab.research.google.com/assets/colab-badge.svg\" alt=\"Open In Colab\"/></a>"
      ]
    },
    {
      "cell_type": "code",
      "execution_count": null,
      "metadata": {
        "colab": {
          "base_uri": "https://localhost:8080/"
        },
        "id": "NHVt_Ia0vt_9",
        "outputId": "ee2d8513-af35-4067-9d10-55a3bd0a0ae3"
      },
      "outputs": [
        {
          "output_type": "execute_result",
          "data": {
            "text/plain": [
              "(23.90916877786327, 1.2294951052777303e-126)"
            ]
          },
          "metadata": {},
          "execution_count": 14
        }
      ],
      "source": [
        "import statsmodels.api as sm\n",
        "import matplotlib.pyplot as plt\n",
        "import pandas as pd\n",
        "import numpy as np\n",
        "\n",
        "n = 4500\n",
        "pnull = 0.48\n",
        "phat = 0.65\n",
        "sm.stats.proportions_ztest(phat * n, n, pnull, alternative = 'larger')\n",
        "\n",
        "# karena nilai p value kurang dari H0, maka tolak H0"
      ]
    },
    {
      "cell_type": "code",
      "source": [
        "import numpy as np\n",
        "\n",
        "sdata = np.random.randint(200, 250, 89)\n",
        "sm.stats.ztest(sdata, value = 80, alternative = \"larger\")\n"
      ],
      "metadata": {
        "colab": {
          "base_uri": "https://localhost:8080/"
        },
        "id": "e-MMK61X0vLl",
        "outputId": "d8ff66a2-5b91-4e8f-8c57-3bcc9efa8cba"
      },
      "execution_count": null,
      "outputs": [
        {
          "output_type": "execute_result",
          "data": {
            "text/plain": [
              "(91.81602371127609, 0.0)"
            ]
          },
          "metadata": {},
          "execution_count": 15
        }
      ]
    },
    {
      "cell_type": "code",
      "source": [
        "sm.stats.ztest(sdata, value = 80, alternative = \"larger\")\n"
      ],
      "metadata": {
        "colab": {
          "base_uri": "https://localhost:8080/"
        },
        "id": "fQ9l-JA70zwS",
        "outputId": "c9af9814-21f4-40b5-a402-f15443bafaba"
      },
      "execution_count": null,
      "outputs": [
        {
          "output_type": "execute_result",
          "data": {
            "text/plain": [
              "(91.81602371127609, 0.0)"
            ]
          },
          "metadata": {},
          "execution_count": 16
        }
      ]
    },
    {
      "cell_type": "code",
      "source": [
        "height = np.array([172, 184, 174, 168, 174, 183, 173, 173, 184, 179, 171, 173, 181, 183, 172, 178, 170, 182, 181, 172, 175, 170, 168, 178, 170, 181, 180, 173, 183, 180, 177, 181, 171, 173, 171, 182, 180, 170, 172, 175, 178, 174, 184, 177, 181, 180, 178, 179, 175, 170, 182, 176, 183, 179, 177])\n",
        "height\n"
      ],
      "metadata": {
        "colab": {
          "base_uri": "https://localhost:8080/"
        },
        "id": "tqyo5zjx2byQ",
        "outputId": "cf1fca3c-b9e1-4519-c64c-28b3e635a3d8"
      },
      "execution_count": null,
      "outputs": [
        {
          "output_type": "execute_result",
          "data": {
            "text/plain": [
              "array([172, 184, 174, 168, 174, 183, 173, 173, 184, 179, 171, 173, 181,\n",
              "       183, 172, 178, 170, 182, 181, 172, 175, 170, 168, 178, 170, 181,\n",
              "       180, 173, 183, 180, 177, 181, 171, 173, 171, 182, 180, 170, 172,\n",
              "       175, 178, 174, 184, 177, 181, 180, 178, 179, 175, 170, 182, 176,\n",
              "       183, 179, 177])"
            ]
          },
          "metadata": {},
          "execution_count": 17
        }
      ]
    },
    {
      "cell_type": "code",
      "source": [
        "from scipy.stats import ttest_1samp\n",
        "import numpy as np\n",
        "\n",
        "\n",
        "height_average = np.mean(height)\n",
        "print(\"Average height is = {0:.3f}\".format(height_average))\n",
        "\n",
        "tset,pval = ttest_1samp(height, 175)\n",
        "\n",
        "print(\"P-value = {}\".format(pval))\n",
        "\n",
        "if pval < 0.05:\n",
        "  print(\"We are rejecting the null Hypotheis.\")\n",
        "else:\n",
        "  print(\"We are accepting the null hypothesis\")\n",
        "\n",
        "\n"
      ],
      "metadata": {
        "colab": {
          "base_uri": "https://localhost:8080/"
        },
        "id": "R6M10B6K2h7t",
        "outputId": "1167105a-51b1-47dc-9a12-59d9a181995d"
      },
      "execution_count": null,
      "outputs": [
        {
          "output_type": "stream",
          "name": "stdout",
          "text": [
            "Average height is = 176.545\n",
            "P-value = 0.019403337788027566\n",
            "We are rejecting the null Hypotheis.\n"
          ]
        }
      ]
    },
    {
      "cell_type": "markdown",
      "source": [
        " #TUGAS 1"
      ],
      "metadata": {
        "id": "XKoREQEe4wyI"
      }
    },
    {
      "cell_type": "code",
      "source": [
        "mu = 8.0 # Suatu perusahaan olahraga telah mengembangkan peralatan olahraga yang diklaim memiliki nilai rata-rata breaking strength 8 kilogram\n",
        "sigma = 0.5 # dengan standard deviasi 0.5 kg.\n",
        "n = 50 # Lakukan uji hipotesis klaim tersebut jika diambil 50 random sample\n",
        "sample_mean = 7.8 # Lakukan uji hipotesis klaim tersebut jika diambil 50 random sample dan ditemukan nilai rata-ratanya adalah 7.8 kg.\n",
        "alpha = 0.01  # Ditentukan signifikansi level= 1%"
      ],
      "metadata": {
        "id": "0TQ08bJm4wbK"
      },
      "execution_count": 30,
      "outputs": []
    },
    {
      "cell_type": "code",
      "source": [
        "np.random.seed(0)\n",
        "sdata2 = np.random.normal(loc=sample_mean, scale=sigma, size=n)\n",
        "\n",
        "# Perform the z-test\n",
        "ztest_stat, p_value = sm.stats.ztest(sdata2, value=mu)\n"
      ],
      "metadata": {
        "id": "4g1pkLXs_xmm"
      },
      "execution_count": 31,
      "outputs": []
    },
    {
      "cell_type": "code",
      "source": [
        "# Output the results\n",
        "print(f\"Z-test statistic: {ztest_stat}\")\n",
        "print(f\"P-value: {p_value}\")\n",
        "\n",
        "# Decision making\n",
        "if p_value < alpha:\n",
        "    print(\"Reject the null hypothesis.\")\n",
        "else:\n",
        "    print(\"Fail to reject the null hypothesis.\")\n"
      ],
      "metadata": {
        "colab": {
          "base_uri": "https://localhost:8080/"
        },
        "id": "z--4MTwbAylx",
        "outputId": "192ccbdb-a2cf-4e3d-9be5-19481ee50686"
      },
      "execution_count": 32,
      "outputs": [
        {
          "output_type": "stream",
          "name": "stdout",
          "text": [
            "Z-test statistic: -1.6135478546390318\n",
            "P-value: 0.10662553530009163\n",
            "Fail to reject the null hypothesis.\n"
          ]
        }
      ]
    },
    {
      "cell_type": "markdown",
      "source": [
        "#Tugas 2"
      ],
      "metadata": {
        "id": "K-GDC2NCBlhh"
      }
    },
    {
      "cell_type": "code",
      "source": [
        "# Given data\n",
        "mu = 46.0  # Edison Electronic mengklaim bahwa produk vacuum cleaner yang ditelitinya memiliki pemakaian nilai rata- rata 46 kWh/tahun.\n",
        "sample_mean = 42.0  # rumah tangga menunjukkan nilai rata-rata 42 kWh/tahun\n",
        "sample_std = 11.9  # Sample standard deviation\n",
        "n = 12  # dengan standard deviasi 11.9 kWh/tahun.\n",
        "alpha = 0.05  # Ditentukan signifikansi level= 5%\n",
        "\n",
        "# Apakah sample ini cukup representatif menunjukkan\n",
        "#bahwa nilai rata-rata pemakaian kurang dari 46\n",
        "#kWh/tahun?"
      ],
      "metadata": {
        "id": "wZWiGVq3Bqez"
      },
      "execution_count": 34,
      "outputs": []
    },
    {
      "cell_type": "code",
      "source": [
        "\n",
        "# Simulate the sample data (if necessary, you can use the real data)\n",
        "np.random.seed(0)\n",
        "sample_data = np.random.normal(loc=sample_mean, scale=sample_std, size=n)\n",
        "\n",
        "# Perform the one-sample t-test\n",
        "t_stat, p_value = ttest_1samp(sample_data, mu, alternative='less')\n",
        "\n",
        "# Output the results\n",
        "print(f\"T-test statistic: {t_stat}\")\n",
        "print(f\"P-value: {p_value}\")\n",
        "\n",
        "# Decision making\n",
        "if p_value < alpha:\n",
        "    print(\"Reject the null hypothesis. The sample data suggests that the average usage is less than 46 kWh/year.\")\n",
        "else:\n",
        "    print(\"Fail to reject the null hypothesis. The sample data does not provide enough evidence to suggest that the average usage is less than 46 kWh/year.\")\n"
      ],
      "metadata": {
        "colab": {
          "base_uri": "https://localhost:8080/"
        },
        "id": "VtsrzGcWDBLQ",
        "outputId": "d631b60d-51f2-4f38-f409-b67527d2b42c"
      },
      "execution_count": 35,
      "outputs": [
        {
          "output_type": "stream",
          "name": "stdout",
          "text": [
            "T-test statistic: 1.4811689098724177\n",
            "P-value: 0.9166857565175561\n",
            "Fail to reject the null hypothesis. The sample data does not provide enough evidence to suggest that the average usage is less than 46 kWh/year.\n"
          ]
        }
      ]
    }
  ]
}